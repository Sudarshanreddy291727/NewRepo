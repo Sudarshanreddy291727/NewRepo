{
 "cells": [
  {
   "cell_type": "markdown",
   "id": "2e75b1f9-4c82-4e17-876a-cef0fb6a3fea",
   "metadata": {},
   "source": [
    "#Python-Assignment-Core"
   ]
  },
  {
   "cell_type": "code",
   "execution_count": 511,
   "id": "8119f060-cd57-4404-8961-f4f42b7f58a3",
   "metadata": {},
   "outputs": [
    {
     "data": {
      "text/plain": [
       "'gnimmargorP nohtyP'"
      ]
     },
     "execution_count": 511,
     "metadata": {},
     "output_type": "execute_result"
    }
   ],
   "source": [
    "# Question1 >>> Reverse the string using string slicing string = \"Python Programming\"\n",
    "Given_String=\"Python Programming\"\n",
    "Given_String[::-1]\n"
   ]
  },
  {
   "cell_type": "code",
   "execution_count": 513,
   "id": "1b1620f3-d61e-41bb-adba-68e4437c2148",
   "metadata": {},
   "outputs": [
    {
     "name": "stdout",
     "output_type": "stream",
     "text": [
      "No of vowels in given word  \"Python Programming \" is \"4\"\n"
     ]
    }
   ],
   "source": [
    "#Question2 >>> count vowels in a given word word = \"Python Programming\n",
    "Given_Word=\"Python Programming\"\n",
    "vowels='a','e','i','o','u'\n",
    "count=0\n",
    "for i in Given_String.strip().lower().replace(' ', ''):\n",
    "    if i in vowels:\n",
    "        count+=1\n",
    "print(f'No of vowels in given word  \"{Given_Word} \" is \"{count}\"')"
   ]
  },
  {
   "cell_type": "code",
   "execution_count": 515,
   "id": "ecda6380-cf50-4cf6-bc33-a5da4ab1b456",
   "metadata": {},
   "outputs": [
    {
     "name": "stdout",
     "output_type": "stream",
     "text": [
      "No of consonants in given word  \"Python Programming\" is \"13\"\n"
     ]
    }
   ],
   "source": [
    "#Question3 >>> count consonants in a given word  -> word = 'Python Programming'\n",
    "Given_Word=\"Python Programming\" \n",
    "vowels='a','e','i','o','u'\n",
    "count=0\n",
    "for i in Given_String.strip().lower().replace(' ',''):\n",
    "    if i not in vowels:\n",
    "        count+=1\n",
    "print(f'No of consonants in given word  \"{Given_Word}\" is \"{count}\"')"
   ]
  },
  {
   "cell_type": "code",
   "execution_count": 517,
   "id": "5eea6fad-0a88-4c1a-b77d-3e5b5383e31d",
   "metadata": {},
   "outputs": [
    {
     "name": "stdout",
     "output_type": "stream",
     "text": [
      "Numbers of Occurances of a character \"o\" in the Python Programming is \"2\"\n"
     ]
    }
   ],
   "source": [
    "#Question4 >>> count the numbers of Occurances of a characters in a string\n",
    "#word = \"Python Programming\" character_to_be_counted = \"o\"\n",
    "\n",
    "Given_Word= \"Python Programming\"\n",
    "character_to_be_counted = \"o\"\n",
    "count=0\n",
    "for i in Given_Word.strip().lower().replace(' ',''):\n",
    "    if i==character_to_be_counted:\n",
    "        count+=1\n",
    "print(f'Numbers of Occurances of a character \"o\" in the {Given_Word} is \"{count}\"')"
   ]
  },
  {
   "cell_type": "code",
   "execution_count": 519,
   "id": "a0fee9a9-a717-42a2-b1e4-105124023090",
   "metadata": {},
   "outputs": [
    {
     "name": "stdout",
     "output_type": "stream",
     "text": [
      "[0, 1, 1, 2, 3, 5, 8]\n",
      "**************************\n",
      "[0, 1, 1, 2, 3, 5, 8, 13, 21, 34, 55, 89, 144, 233, 377, 610]\n"
     ]
    }
   ],
   "source": [
    "#Question5 >>> write a function that will create a fibonacci series\n",
    "\n",
    "def fibonacci_series(n):\n",
    "    FibonacciSeries=[]\n",
    "#Asuming the user will enter some random number and print the fibonacci series list\n",
    "    first_val=0\n",
    "    second_va1=1\n",
    "    for i in range(n):\n",
    "     FibonacciSeries.append(first_val)\n",
    "     first_val,second_va1= second_va1, first_val+second_va1\n",
    "\n",
    "    return FibonacciSeries\n",
    "    \n",
    "\n",
    "\n",
    "\n",
    "\n",
    "print(fibonacci_series(7))\n",
    "\n",
    "print('**************************')\n",
    "\n",
    "print(fibonacci_series(16))"
   ]
  },
  {
   "cell_type": "code",
   "execution_count": 521,
   "id": "8135f657-2971-4b47-bc17-5e76bb7d6f2c",
   "metadata": {},
   "outputs": [
    {
     "data": {
      "text/plain": [
       "'Maximum number in a given list is \"125\"'"
      ]
     },
     "execution_count": 521,
     "metadata": {},
     "output_type": "execute_result"
    }
   ],
   "source": [
    "'''Question6 >>> Find the maximum nunber in a list , do not use the built in python function,\n",
    "write a function that will iterate over the list of numbers and find the maximum numbers? numberList = [15,\n",
    "85, 35, 89, 125]'''\n",
    "\n",
    "numberList = [15,85, 35, 89, 125]\n",
    "def maximum_number(M):\n",
    "    maximum_number= numberList[0] #Assuming the maximum number as 1st number in a list, we can replace it with any number from list as well.\n",
    "    for max_num in numberList:\n",
    "        if max_num>maximum_number:\n",
    "            maximum_number= max_num\n",
    "    return f'Maximum number in a given list is \"{maximum_number}\"'\n",
    "            \n",
    "\n",
    "\n",
    "maximum_number(numberList) #Assigning given numberList to parameter M"
   ]
  },
  {
   "cell_type": "code",
   "execution_count": 523,
   "id": "4af0d43b-3385-48b8-9279-b294ea04ce85",
   "metadata": {},
   "outputs": [
    {
     "name": "stdout",
     "output_type": "stream",
     "text": [
      " Middle number in a given list is 35\n"
     ]
    }
   ],
   "source": [
    "#Question7 >>> find the middle number in a list numberList = [15, 85, 35, 89,125]\n",
    "\n",
    "numberList = [15, 85, 35, 89,125]\n",
    "\n",
    "#Lets find len(numberList)\n",
    "length_List= (len(numberList))\n",
    "if length_List%2 != 0:\n",
    "    Middle_number= numberList[length_List//2]\n",
    "#If the given list is even we can also add else block to get middle 2 values\n",
    "\n",
    "#else:\n",
    "# Middle_number= numberList[(length_List//2)-1],numberList[length_List//2]\n",
    "\n",
    "    \n",
    "print(f' Middle number in a given list is {Middle_number}')"
   ]
  },
  {
   "cell_type": "code",
   "execution_count": 525,
   "id": "da369fdf-ae92-49ed-aeac-fa2f4c0856ed",
   "metadata": {},
   "outputs": [
    {
     "name": "stdout",
     "output_type": "stream",
     "text": [
      "P,Y,T,H,O,N\n"
     ]
    },
    {
     "data": {
      "text/plain": [
       "'PYTHON'"
      ]
     },
     "execution_count": 525,
     "metadata": {},
     "output_type": "execute_result"
    }
   ],
   "source": [
    "#Question8 >>> convert a list to a string \n",
    "lst = [\"P\", \"Y\", \"T\", \"H\", \"O\", \"N\"]\n",
    "\n",
    "String=','.join(lst)\n",
    "print(String)\n",
    "#If we want proper or meaninfull string/word we can use replace (Optional)\n",
    "\n",
    "String.replace(',', '')"
   ]
  },
  {
   "cell_type": "code",
   "execution_count": 527,
   "id": "e2efdfc3-aeb0-404e-a81b-82eef06ea954",
   "metadata": {},
   "outputs": [
    {
     "name": "stdout",
     "output_type": "stream",
     "text": [
      "[1, 2, 3, 4, 5, 6]\n",
      "[1, 2, 3, 4, 5, 6]\n"
     ]
    }
   ],
   "source": [
    "#Question>>> adding two list elements togther \n",
    "lst1 = [1, 2, 3]\n",
    "lst2 = [4, 5, 6]\n",
    "\n",
    "#We can add directly using '+'\n",
    "new_lst1= lst1+lst2\n",
    "print(new_lst1)\n",
    "\n",
    "#We can add lst2 to lst1 using extend\n",
    "lst1.extend(lst2)\n",
    "new_list2=lst1\n",
    "print(lst1)\n"
   ]
  },
  {
   "cell_type": "code",
   "execution_count": 529,
   "id": "417bc7af-1ac5-4406-97d8-f7b4ccb61dcd",
   "metadata": {},
   "outputs": [
    {
     "name": "stdout",
     "output_type": "stream",
     "text": [
      "Given two strings are Anagram\n"
     ]
    }
   ],
   "source": [
    "#Question9 >>>compare two strings for Anagram str1 = \"Listen\" str2 = \"Silent\"\n",
    "\n",
    "str1 =\"Listen\" \n",
    "str2 = \"Silent\"\n",
    "str1_lst=[]\n",
    "str2_lst=[]\n",
    "for i in str1.lower():\n",
    "    str1_lst.append(i)\n",
    "for i in str2.lower():\n",
    "    str2_lst.append(i)\n",
    "if sorted(str1_lst)== sorted(str2_lst):\n",
    "    print('Given two strings are Anagram')\n",
    "else:\n",
    "    print('Given two strings are not Anagram')"
   ]
  },
  {
   "cell_type": "code",
   "execution_count": 531,
   "id": "b9f6a512-da97-439e-8b82-423550ce65a7",
   "metadata": {},
   "outputs": [
    {
     "name": "stdout",
     "output_type": "stream",
     "text": [
      "True\n",
      "False\n"
     ]
    }
   ],
   "source": [
    "'''Question10 >>> check for palindrome in strings, write a function that takes two strings\n",
    "as input and returns True if the strings are palindrom and returns false if the strings are not a\n",
    "pallindrome'''\n",
    "\n",
    "def palindrome(str1,str2):\n",
    "    check_str1_is_palindrome=str1.strip().lower()[::]==str1.strip().lower()[::-1] \n",
    "    check_str2_is_palindrome=str2.strip()[::]==str2.strip().lower()[::-1]\n",
    "\n",
    "    return check_str1_is_palindrome and check_str2_is_palindrome\n",
    "\n",
    "\n",
    "#Sample inputs:\n",
    "\n",
    "print(palindrome('ssss','uuuu'))\n",
    "print(palindrome('sudarshan','sushruth'))"
   ]
  },
  {
   "cell_type": "code",
   "execution_count": 533,
   "id": "5a106733-2e9f-4299-8cb2-154a17d61c5f",
   "metadata": {},
   "outputs": [
    {
     "name": "stdout",
     "output_type": "stream",
     "text": [
      "Number of white spaces in a given string is 9\n",
      "Number of white spaces in a given string is 0\n"
     ]
    }
   ],
   "source": [
    "#Question11 >>> count the number of white space in a string Write a function that takes string as\n",
    "#input and returns the number of white spaces in the string as return value.\n",
    "\n",
    "def count_spaces(string):\n",
    "    count=0\n",
    "    for i  in string:\n",
    "        if i==' ':\n",
    "            count+=1\n",
    "    return f'Number of white spaces in a given string is {count}'\n",
    "\n",
    "print(count_spaces(' S U S H R U T H '))\n",
    "print(count_spaces('SUDARSHAN'))"
   ]
  },
  {
   "cell_type": "code",
   "execution_count": 535,
   "id": "7fa50ad6-5eed-475c-ba1d-69d1635aab2c",
   "metadata": {},
   "outputs": [
    {
     "name": "stdout",
     "output_type": "stream",
     "text": [
      "Students who has second lowest marks is Lucky, Sudarshan\n"
     ]
    }
   ],
   "source": [
    "'''Question12 >>>Given the names and grades for each student in a class of students, store\n",
    "them in a nested list and print the name(s) of any student(s) having the second lowest\n",
    "grade.\n",
    "Note: If there are multiple students with the second lowest grade, order their names\n",
    "alphabetically and print each name on a new line.'''\n",
    "\n",
    "#Sample Class of Students List:\n",
    "Class_of_Students=[['Sudarshan', 7],['Lucky', 7], ['Prabhas',10],['Nithin', 3],['Ram',3],['Ammulya',3]]\n",
    "#Lets sort the list based on Marks/Grade(Assuming grades will be from 1-10)\n",
    "Class_of_Students= sorted(Class_of_Students, key=lambda stu:stu[1], reverse=True)\n",
    "#Creating list to find the student who has second lowest grade:\n",
    "lowest_marks=[]\n",
    "first_lowest_marks=Class_of_Students[-1][1]\n",
    "second_lowest_marks=[]\n",
    "for i in Class_of_Students:\n",
    "    if i[1]>first_lowest_marks:\n",
    "       second_lowest_marks.append(i[1])\n",
    "second_lowest_marks=sorted(second_lowest_marks)[0]\n",
    "for students in Class_of_Students:\n",
    "    if students[1]==second_lowest_marks:\n",
    "        lowest_marks.append(students[0])\n",
    "\n",
    "second_lowest_marks=(', '.join(sorted(lowest_marks)))\n",
    "print(f'Students who has second lowest marks is {second_lowest_marks}')\n"
   ]
  },
  {
   "cell_type": "code",
   "execution_count": 537,
   "id": "a3782630-5051-44fd-8b47-75a417c0bdf3",
   "metadata": {},
   "outputs": [
    {
     "name": "stdout",
     "output_type": "stream",
     "text": [
      "True\n",
      "True\n",
      "False\n",
      "False\n"
     ]
    }
   ],
   "source": [
    "'''Question13 >>> An extra day is added to the calendar almost every four years as February\n",
    "29, and the day is called a leap day. It corrects the calendar for the fact that our planet\n",
    "takes approximately 365.25 days to orbit the sun. A leap year contains a leap day.\n",
    "In the Gregorian calendar, three conditions are used to identify leap years:\n",
    "The year can be evenly divided by 4, is a leap year, unless: The year can be evenly\n",
    "divided by 100, it is NOT a leap year, unless: The year is also evenly divisible by 400.\n",
    "Then it is a leap year. This means that in the Gregorian calendar, the years 2000 and\n",
    "2400 are leap years, while 1800, 1900, 2100, 2200, 2300 and 2500 are NOT leap years.\n",
    "Source\n",
    "Task\n",
    "Given a year, determine whether it is a leap year. If it is a leap year, return the Boolean\n",
    "True, otherwise return False.'''\n",
    "\n",
    "def leap_year(year):\n",
    "    check_leap_year=(year % 4 == 0 and year % 100 != 0) or (year % 400 == 0)\n",
    "    return check_leap_year\n",
    "\n",
    "\n",
    "#Sample Input:\n",
    "\n",
    "print(leap_year(2000))\n",
    "print(leap_year(2400))\n",
    "print(leap_year(1800))\n",
    "print(leap_year(1900))"
   ]
  },
  {
   "cell_type": "code",
   "execution_count": 539,
   "id": "fceaadb5-1a22-4dcc-bf14-6839088bacf8",
   "metadata": {},
   "outputs": [
    {
     "name": "stdout",
     "output_type": "stream",
     "text": [
      "Converted case string is \"pYtHoN pROgRAmmING is A lOt oF fUn!\"\n"
     ]
    }
   ],
   "source": [
    "'''Question 14>>> You have been given a String S consisting of uppercase and lowercase\n",
    "English alphabets. You need to change the case of each alphabet in this String. That is,\n",
    "all the uppercase letters should be converted to lowercase and all the lowercase letters\n",
    "should be converted to uppercase. You need to then print the resultant String to output.\n",
    "input_str = \"PyThOn ProGraMMing IS a LoT Of FuN!\"'''\n",
    "\n",
    "input_str = \"PyThOn ProGraMMing IS a LoT Of FuN!\"\n",
    "new_input=[i.lower() if i.isupper() else i.upper()  for i in input_str]\n",
    "new_input=','.join(new_input).replace(',','')\n",
    "print(f'Converted case string is \"{new_input}\"')"
   ]
  },
  {
   "cell_type": "code",
   "execution_count": 541,
   "id": "569037cf-8a8e-4ebb-bfeb-b23b5c4544d3",
   "metadata": {},
   "outputs": [
    {
     "name": "stdout",
     "output_type": "stream",
     "text": [
      "10\n",
      "7\n"
     ]
    }
   ],
   "source": [
    "'''Question15 >> You have been given 3 integers - l, r and k. Find how many numbers\n",
    "between l and r (both inclusive) are divisible by k. You do not need to print these\n",
    "numbers, you just have to find their count.'''\n",
    "def count_divisibles(l,r,k):\n",
    " count=0\n",
    " for i in range(l,r+1):\n",
    "    if i%k==0:\n",
    "        count+=1\n",
    "\n",
    " return(count)\n",
    "\n",
    "\n",
    "print(count_divisibles(7,70,7))\n",
    "print(count_divisibles(70,700,100))"
   ]
  },
  {
   "cell_type": "code",
   "execution_count": 543,
   "id": "eca75050-0be3-422a-b6a5-c6382cc438df",
   "metadata": {},
   "outputs": [
    {
     "name": "stdout",
     "output_type": "stream",
     "text": [
      "1\n",
      "3\n"
     ]
    }
   ],
   "source": [
    "#Question 16 >> Write a function that takes a list as an input and returns the number of unique elements in the list?\n",
    "def unique_values(lst):\n",
    " new_lst=[]\n",
    " for i in lst:\n",
    "    if i not in new_lst:\n",
    "        new_lst.append(i)\n",
    "\n",
    " return len(new_lst)\n",
    "\n",
    "print(unique_values([7,7,7]))\n",
    "print(unique_values([7,70,700]))\n",
    "        "
   ]
  },
  {
   "cell_type": "code",
   "execution_count": 545,
   "id": "ab45eebe-b86f-4f4f-8ea9-b47fb7127336",
   "metadata": {},
   "outputs": [
    {
     "data": {
      "text/plain": [
       "[4, 3]"
      ]
     },
     "execution_count": 545,
     "metadata": {},
     "output_type": "execute_result"
    }
   ],
   "source": [
    "'''Question 17 >> Extract elements with Frequency greater than K example Input : test_list = [4, 6, 4, 3, 3, 4,\n",
    "3, 4, 3, 8], K = 3 Output : [4, 3]'''\n",
    "test_list = [4, 6, 4, 3, 3, 4,3, 4, 3, 8]\n",
    "K=3\n",
    "frequency_greaterthan_K=[]\n",
    "for i in test_list:\n",
    "    if test_list.count(i)>K:\n",
    "        if i not in frequency_greaterthan_K:\n",
    "         frequency_greaterthan_K.append(i)\n",
    "            \n",
    "frequency_greaterthan_K"
   ]
  },
  {
   "cell_type": "code",
   "execution_count": 547,
   "id": "11cc816f-d2d1-439e-8566-a51aa7b5d003",
   "metadata": {},
   "outputs": [
    {
     "data": {
      "text/plain": [
       "[2, 2, 3, 4, 5]"
      ]
     },
     "execution_count": 547,
     "metadata": {},
     "output_type": "execute_result"
    }
   ],
   "source": [
    "''' Question 18 >> Given an array arr[] of N positive integers. The task is to find\n",
    "the maximum for every adjacent pair in the array. Examples: Input: 1 2 2 3 4 5 Output: 2 2 3 4 5 Input: 5 5'''\n",
    "arr=[1, 2, 2, 3, 4, 5]\n",
    "new_arr=[]\n",
    "for i in range(len(arr)-1):\n",
    "    new_arr.append(max(arr[i],arr[i+1]))\n",
    "\n",
    "new_arr\n",
    "\n"
   ]
  },
  {
   "cell_type": "code",
   "execution_count": 549,
   "id": "4adab7ff-230d-4bbc-8d46-02c097a6982d",
   "metadata": {},
   "outputs": [
    {
     "name": "stdout",
     "output_type": "stream",
     "text": [
      "1\n",
      "22\n"
     ]
    }
   ],
   "source": [
    "'''Question 19 :Python program to check if the list contains three consecutive common numbers in a\n",
    "list Input : [4, 5, 5, 5, 3, 8] Output : 5 Input : [1, 1, 1, 64, 23, 64, 22, 22, 22] Output : 1,22'''\n",
    "\n",
    "Input = [1, 1, 1, 64, 23, 64, 22, 22, 22]\n",
    "for i in range(0,len(Input)-2):\n",
    "    if Input[i]==Input[i+1]==Input[i+2]:\n",
    "        print(Input[i])"
   ]
  },
  {
   "cell_type": "code",
   "execution_count": 551,
   "id": "c8a505ce-a0af-4bde-b207-b6f4aca1088f",
   "metadata": {},
   "outputs": [
    {
     "data": {
      "text/plain": [
       "['Gfg', 'is', 'best', 'and', 'CS']"
      ]
     },
     "execution_count": 551,
     "metadata": {},
     "output_type": "execute_result"
    }
   ],
   "source": [
    "'''Question 20 >> Given\n",
    "two lists, extract all elements from the first list, whose corresponding index in the second list contains the\n",
    "required substring. Input : test_list1 = [“Gfg”, “is”, “not”, “best”, “and”, “not”, “CS”], test_list2 = [“Its ok”, “all\n",
    "ok”, “wrong”, “looks ok”, “ok”, “wrong”, “thats ok”], sub_str = “ok” Output : [‘Gfg’, ‘is’, ‘best’, ‘and’, ‘CS’]\n",
    "Explanation : All retained contain “ok” as substring in corresponding idx, e.g : Gfg -> Its ok ( has ok ) as\n",
    "substr. Input : test_list1 = [“Gfg”, “not”, “best”], test_list2 = [“yes”, “noo”, “its yes”], sub_str = “yes” Output :\n",
    "[‘Gfg’, ‘best’] Explanation : All retained contain “yes” as substring in corresponding idx, e.g : Gfg -> yes (\n",
    "has yes ) as substr'''\n",
    "\n",
    "test_list1 = [\"Gfg\", \"is\", \"not\", \"best\", \"and\", \"not\", \"CS\"]\n",
    "test_list2 = [\"Its ok\", \"all ok\", \"wrong\", \"looks ok\", \"ok\", \"wrong\", \"thats ok\"]\n",
    "sub_str = \"ok\"\n",
    "\n",
    "new_lst = [test_list1[i] for i in range(len(test_list1)) if sub_str.strip().lower() in test_list2[i].strip().lower()]\n",
    "\n",
    "new_lst"
   ]
  },
  {
   "cell_type": "code",
   "execution_count": 553,
   "id": "c914be78-728c-4ca4-94fb-5500e254d610",
   "metadata": {},
   "outputs": [
    {
     "data": {
      "text/plain": [
       "['Gfg', 'best']"
      ]
     },
     "execution_count": 553,
     "metadata": {},
     "output_type": "execute_result"
    }
   ],
   "source": [
    "test_list1 = ['Gfg','not','best']\n",
    "test_list2 = ['yes','noo','its yes']\n",
    "sub_str = \"yes\"\n",
    "\n",
    "new_lst = [test_list1[i] for i in range(len(test_list1)) if sub_str.strip().lower() in test_list2[i].strip().lower()]\n",
    "\n",
    "new_lst"
   ]
  },
  {
   "cell_type": "code",
   "execution_count": null,
   "id": "1fa89870-a4f2-4827-af58-e980bc9aab48",
   "metadata": {},
   "outputs": [],
   "source": []
  },
  {
   "cell_type": "code",
   "execution_count": 555,
   "id": "c793e216-984b-4c5c-a569-31d93c15c679",
   "metadata": {},
   "outputs": [
    {
     "data": {
      "text/plain": [
       "[32, 22, 10]"
      ]
     },
     "execution_count": 555,
     "metadata": {},
     "output_type": "execute_result"
    }
   ],
   "source": [
    "#Question 21 >> Use List comprehension to solve the probem Given a list of numbers,\n",
    "#remove all odd numbers from the list: numbers = [3,5,45,97,32,22,10,19,39,43]\n",
    "\n",
    "\n",
    "numbers = [3,5,45,97,32,22,10,19,39,43]\n",
    "new_even_number_lst=[ num  for num in numbers if num%2==0]\n",
    "new_even_number_lst"
   ]
  },
  {
   "cell_type": "code",
   "execution_count": 557,
   "id": "d2d0681a-b001-4cca-8865-f5e80f8ce997",
   "metadata": {},
   "outputs": [
    {
     "name": "stdout",
     "output_type": "stream",
     "text": [
      "2\n",
      "3\n",
      "4\n"
     ]
    }
   ],
   "source": [
    "#Question 22 >> Find the\n",
    "#common numbers in two lists (without using a tuple or set) \n",
    "list_a = 1, 2, 3, 4\n",
    "list_b = 2, 3, 4, 5\n",
    "for num in list_a:\n",
    "    if num in list_b and num not in common_number_lst :\n",
    "        print(num)"
   ]
  },
  {
   "cell_type": "code",
   "execution_count": 559,
   "id": "36496db9-6bae-4f34-a036-d8288e7f42ed",
   "metadata": {},
   "outputs": [
    {
     "data": {
      "text/plain": [
       "['1984', '13', '1000']"
      ]
     },
     "execution_count": 559,
     "metadata": {},
     "output_type": "execute_result"
    }
   ],
   "source": [
    "#Question 23 >>\n",
    "#Get only the numbers in a sentence like \n",
    "#Input = 'In 1984 there were 13 instances of a protest with over 1000 people attending'\n",
    "#result = [1984, 13, 1000]\n",
    "\n",
    "\n",
    "Input = 'In 1984 there were 13 instances of a protest with over 1000 people attending'\n",
    "\n",
    "updated_input=Input.strip().split(' ')\n",
    "\n",
    "results=[]\n",
    "\n",
    "for i in updated_input:\n",
    "    if i.isdigit():\n",
    "        results.append(i)\n",
    "        \n",
    "results"
   ]
  },
  {
   "cell_type": "code",
   "execution_count": 561,
   "id": "37f41529-5eee-4ce1-92ad-d544cff7ec25",
   "metadata": {},
   "outputs": [
    {
     "data": {
      "text/plain": [
       "['even',\n",
       " 'odd',\n",
       " 'even',\n",
       " 'odd',\n",
       " 'even',\n",
       " 'odd',\n",
       " 'even',\n",
       " 'odd',\n",
       " 'even',\n",
       " 'odd',\n",
       " 'even',\n",
       " 'odd',\n",
       " 'even',\n",
       " 'odd',\n",
       " 'even',\n",
       " 'odd',\n",
       " 'even',\n",
       " 'odd',\n",
       " 'even',\n",
       " 'odd']"
      ]
     },
     "execution_count": 561,
     "metadata": {},
     "output_type": "execute_result"
    }
   ],
   "source": [
    "''' Question 24 >> Given numbers = range(20), produce a list\n",
    "containing the word 'even' if a number in the numbers is even, and the word 'odd' if the number is odd.\n",
    "Result would look like ['odd','odd', 'even']'''\n",
    "\n",
    "numbers=range(20)\n",
    "new_lst=['even' if num%2==0 else 'odd'  for num in numbers]\n",
    "new_lst"
   ]
  },
  {
   "cell_type": "code",
   "execution_count": 563,
   "id": "023d94f7-73ac-4f86-b5d1-5ba15a089870",
   "metadata": {},
   "outputs": [
    {
     "data": {
      "text/plain": [
       "[2,\n",
       " 3,\n",
       " 4,\n",
       " 5,\n",
       " 6,\n",
       " 7,\n",
       " 8,\n",
       " 9,\n",
       " 10,\n",
       " 12,\n",
       " 14,\n",
       " 15,\n",
       " 16,\n",
       " 18,\n",
       " 20,\n",
       " 21,\n",
       " 22,\n",
       " 24,\n",
       " 25,\n",
       " 26,\n",
       " 27,\n",
       " 28,\n",
       " 30,\n",
       " 32,\n",
       " 33,\n",
       " 34,\n",
       " 35,\n",
       " 36,\n",
       " 38,\n",
       " 39,\n",
       " 40,\n",
       " 42,\n",
       " 44,\n",
       " 45,\n",
       " 46,\n",
       " 48,\n",
       " 49,\n",
       " 50,\n",
       " 51,\n",
       " 52,\n",
       " 54,\n",
       " 55,\n",
       " 56,\n",
       " 57,\n",
       " 58,\n",
       " 60,\n",
       " 62,\n",
       " 63,\n",
       " 64,\n",
       " 65,\n",
       " 66,\n",
       " 68,\n",
       " 69,\n",
       " 70,\n",
       " 72,\n",
       " 74,\n",
       " 75,\n",
       " 76,\n",
       " 77,\n",
       " 78,\n",
       " 80,\n",
       " 81,\n",
       " 82,\n",
       " 84,\n",
       " 85,\n",
       " 86,\n",
       " 87,\n",
       " 88,\n",
       " 90,\n",
       " 91,\n",
       " 92,\n",
       " 93,\n",
       " 94,\n",
       " 95,\n",
       " 96,\n",
       " 98,\n",
       " 99,\n",
       " 100]"
      ]
     },
     "execution_count": 563,
     "metadata": {},
     "output_type": "execute_result"
    }
   ],
   "source": [
    "#Question 25 >> Use a nested list comprehension to find all of the\n",
    "#numbers from 1-100 that are divisible by any single digit besides 1 (2-9)\n",
    "\n",
    "num_range=range(2,10)\n",
    "numbers= [i for i in range(1,101) if sum(i % j == 0  for j in range(2,10)) > 0]\n",
    "numbers"
   ]
  },
  {
   "cell_type": "code",
   "execution_count": 565,
   "id": "7b8ce7c2-2859-4be3-9e65-7b79eb49d766",
   "metadata": {},
   "outputs": [
    {
     "data": {
      "text/plain": [
       "['On', 'a', 'day', 'in', 'the', 'sun', 'and', 'his', 'red']"
      ]
     },
     "execution_count": 565,
     "metadata": {},
     "output_type": "execute_result"
    }
   ],
   "source": [
    "'''Question 26 >> Use list\n",
    "comprehension to solve the below problem statement Find all of the words in a string that are less than 4\n",
    "letters sentence = 'On a summer day somner smith went simming in the sun and his red skin stung'\n",
    "'''\n",
    "\n",
    "given_sentence = 'On a summer day somner smith went simming in the sun and his red skin stung'\n",
    "\n",
    "words_lessthan_4_letters =[word for word in given_sentence.strip().split() if len(word)<4]\n",
    "words_lessthan_4_letters"
   ]
  },
  {
   "cell_type": "code",
   "execution_count": null,
   "id": "ed1e3b78-1b6b-465f-bb8b-5cfb0ea3ac71",
   "metadata": {},
   "outputs": [],
   "source": []
  },
  {
   "cell_type": "code",
   "execution_count": null,
   "id": "ffdd4cd0-82ba-45f2-a330-b8cd8e195cc5",
   "metadata": {},
   "outputs": [],
   "source": []
  },
  {
   "cell_type": "code",
   "execution_count": null,
   "id": "38977b1f-1de8-4434-9353-77ede5db07a9",
   "metadata": {},
   "outputs": [],
   "source": []
  },
  {
   "cell_type": "code",
   "execution_count": null,
   "id": "ab70082b-5e70-4703-bf13-13bbb5d76e4c",
   "metadata": {},
   "outputs": [],
   "source": []
  },
  {
   "cell_type": "code",
   "execution_count": null,
   "id": "dd9c4400-699a-4b76-9196-230970a90ac9",
   "metadata": {},
   "outputs": [],
   "source": []
  },
  {
   "cell_type": "code",
   "execution_count": null,
   "id": "3578c241-82d2-423e-acef-92ec6d4723d6",
   "metadata": {},
   "outputs": [],
   "source": []
  },
  {
   "cell_type": "code",
   "execution_count": null,
   "id": "e1e0f9d6-2589-4000-9dbb-aa97c13aca2d",
   "metadata": {},
   "outputs": [],
   "source": []
  },
  {
   "cell_type": "code",
   "execution_count": null,
   "id": "d477e246-5940-4423-bf14-4d0dceca8c31",
   "metadata": {},
   "outputs": [],
   "source": []
  },
  {
   "cell_type": "code",
   "execution_count": null,
   "id": "0b9f5760-a0c4-47b3-bdf8-e7341a0c006c",
   "metadata": {},
   "outputs": [],
   "source": []
  },
  {
   "cell_type": "code",
   "execution_count": null,
   "id": "b4747195-79aa-4345-87a2-2bca6b25830b",
   "metadata": {},
   "outputs": [],
   "source": []
  },
  {
   "cell_type": "code",
   "execution_count": null,
   "id": "43fd3d0e-6c46-4c5a-a539-4baf414cc591",
   "metadata": {},
   "outputs": [],
   "source": []
  },
  {
   "cell_type": "code",
   "execution_count": null,
   "id": "d99dca37-d2d2-47b8-9b45-9ac7ae391cd7",
   "metadata": {},
   "outputs": [],
   "source": []
  },
  {
   "cell_type": "code",
   "execution_count": null,
   "id": "49aab47f-c5ac-4fbb-a72f-e9debd3c5894",
   "metadata": {},
   "outputs": [],
   "source": []
  },
  {
   "cell_type": "code",
   "execution_count": null,
   "id": "0850b1e9-ec77-4fc0-97b3-96466f0bab29",
   "metadata": {},
   "outputs": [],
   "source": []
  },
  {
   "cell_type": "code",
   "execution_count": null,
   "id": "d5ad5011-0f49-4462-9243-4c8c52a25f8b",
   "metadata": {},
   "outputs": [],
   "source": []
  },
  {
   "cell_type": "code",
   "execution_count": null,
   "id": "af5d1be0-168e-41ff-9788-1898da0e1b79",
   "metadata": {},
   "outputs": [],
   "source": []
  },
  {
   "cell_type": "markdown",
   "id": "dadca6aa-dbf5-4244-99bf-bc842e5fbcbf",
   "metadata": {},
   "source": [
    "#Python- Test"
   ]
  },
  {
   "cell_type": "code",
   "execution_count": 568,
   "id": "4eb798e7-fca3-4bd4-a623-4ee512845d7a",
   "metadata": {},
   "outputs": [
    {
     "name": "stdout",
     "output_type": "stream",
     "text": [
      "['0*0*0', '2*2*2', '4*4*4', '6*6*6', '8*8*8', '10*10*10', '12*12*12', '14*14*14', '16*16*16', '18*18*18', '20*20*20', '22*22*22', '24*24*24', '26*26*26', '28*28*28', '30*30*30', '32*32*32', '34*34*34', '36*36*36', '38*38*38', '40*40*40', '42*42*42', '44*44*44', '46*46*46', '48*48*48']\n"
     ]
    },
    {
     "data": {
      "text/plain": [
       "[0,\n",
       " 8,\n",
       " 64,\n",
       " 216,\n",
       " 512,\n",
       " 1000,\n",
       " 1728,\n",
       " 2744,\n",
       " 4096,\n",
       " 5832,\n",
       " 8000,\n",
       " 10648,\n",
       " 13824,\n",
       " 17576,\n",
       " 21952,\n",
       " 27000,\n",
       " 32768,\n",
       " 39304,\n",
       " 46656,\n",
       " 54872,\n",
       " 64000,\n",
       " 74088,\n",
       " 85184,\n",
       " 97336,\n",
       " 110592]"
      ]
     },
     "execution_count": 568,
     "metadata": {},
     "output_type": "execute_result"
    }
   ],
   "source": [
    "'''Question 1 >> Use the variable \"numbers\", in the cell below, to create a list of cube of even numbers.\n",
    "Output should be -> [2*2*2, 3*3*3, 4*4*4] Use list comprehension to create the list of cubes of even\n",
    "numbers\n",
    "numbers = range(50)\n",
    "# Create a list of cubes of even numbers\n",
    "# Use list comprehension'''\n",
    "numbers=range(50)\n",
    "list_of_cubes_of_even_numbers= [(f'{i}*{i}*{i}') for i in numbers if i%2==0]\n",
    "print(list_of_cubes_of_even_numbers)\n",
    "\n",
    "#If exact values need to be printed:\n",
    "list_of_cubes_of_even_numbers1= [(i**3)  for i in numbers if i%2==0]\n",
    "list_of_cubes_of_even_numbers1"
   ]
  },
  {
   "cell_type": "code",
   "execution_count": 570,
   "id": "98235a43-8332-4ca7-a73e-0dca22febc68",
   "metadata": {},
   "outputs": [
    {
     "data": {
      "text/plain": [
       "[1, 2]"
      ]
     },
     "execution_count": 570,
     "metadata": {},
     "output_type": "execute_result"
    }
   ],
   "source": [
    " '''Question 2 >> Given an array of integers nums and an integer target, return indices of the two numbers\n",
    "such that they add up to target. You may assume that each input would have exactly one solution, and you\n",
    "may not use the same element twice. Example 1 > Input: nums = [2,7,11,15], target = 9 Output: [0,1]\n",
    "Example 2 > Input: nums = [3,2,4], target = 6 Output: [1,2] Example 3 > Input: nums = [3,3], target = 6\n",
    "Output: [0,1]'''\n",
    "\n",
    "\n",
    "def target_sum_indices(nums, target):\n",
    "    num__index = {}\n",
    "    \n",
    "    for index, number in enumerate(nums):\n",
    "        second_number = target - number\n",
    "        \n",
    "        if second_number in num__index:\n",
    "            return [num__index[second_number], index]\n",
    "        \n",
    "        num__index[number] = index\n",
    "\n",
    "target_sum_indices([10,1,6,15,2],7)"
   ]
  },
  {
   "cell_type": "code",
   "execution_count": 572,
   "id": "bed75ad7-a068-4845-841a-07febb09e377",
   "metadata": {},
   "outputs": [
    {
     "data": {
      "text/plain": [
       "['Nagpur', 'Kolkata', 'Pune', 'Chennai']"
      ]
     },
     "execution_count": 572,
     "metadata": {},
     "output_type": "execute_result"
    }
   ],
   "source": [
    "'''#Question 3 >>\n",
    "li = ['Nagpur', 'Kolkata', 'Pune', 'Chennai', 'Kolkata', 'Pune',\n",
    "'Nagpur', 'Lucknow']\n",
    "# create a list that remove has only unique values.'''\n",
    "\n",
    "li = ['Nagpur', 'Kolkata', 'Pune', 'Chennai', 'Kolkata', 'Pune']\n",
    "new_li=[]\n",
    "for i in li:\n",
    "    if i.strip().lower() not in new_li:\n",
    "        new_li.append(i.strip().lower())\n",
    "        \n",
    "#To change the strings to given format(optional)\n",
    "new_lst1=[]\n",
    "for i in new_li:\n",
    "    new_lst1.append(i.title())\n",
    "new_lst1\n",
    "    "
   ]
  },
  {
   "cell_type": "code",
   "execution_count": 574,
   "id": "32a8bf4b-2121-4cd2-9bb4-7630455b992b",
   "metadata": {},
   "outputs": [
    {
     "data": {
      "text/plain": [
       "{1: True, 7: False, 9: False, 11: True}"
      ]
     },
     "execution_count": 574,
     "metadata": {},
     "output_type": "execute_result"
    }
   ],
   "source": [
    "'''# Question 4 >>\n",
    "random_list = ['Nagpur', True, 1, 2920.22, 383.22, 3333, 0, False,\n",
    "'Lucknow', False, 'Kolkata', True]\n",
    "# create an output dictionary from the above random_list\n",
    "# where the key is index of element which is of type Boolean\n",
    "# and the value is the element at that position in the list\n",
    "# The output for the above list is {1: True, 7: False, 9: False, 11:\n",
    "True}\n",
    "# The element in index 1 is of type boolean and the value of that\n",
    "element is True,\n",
    "# the element at index 7 os of type boolean and the value of that\n",
    "element is False'''\n",
    "\n",
    "\n",
    "\n",
    "random_list = ['Nagpur', True, 1, 2920.22, 383.22, 3333, 0, False,'Lucknow', False, 'Kolkata', True]\n",
    "new_lst={}\n",
    "for i in enumerate(random_list):\n",
    "    if type(i[1])==bool:\n",
    "        new_lst[i[0]]=i[1]\n",
    "new_lst\n"
   ]
  },
  {
   "cell_type": "code",
   "execution_count": 576,
   "id": "c23c09ab-53e6-4354-9de1-c0632e348df9",
   "metadata": {},
   "outputs": [
    {
     "data": {
      "text/plain": [
       "[{'city': 'Mumbai', 'per_capita_income': 72730},\n",
       " {'city': 'Hyderabad', 'per_capita_income': 71444},\n",
       " {'city': 'Bangalore', 'per_capita_income': 70730},\n",
       " {'city': 'Chennai', 'per_capita_income': 69730}]"
      ]
     },
     "execution_count": 576,
     "metadata": {},
     "output_type": "execute_result"
    }
   ],
   "source": [
    "'''\n",
    "# Question 5 >>\n",
    "# Input is a list of dictionary like li\n",
    "# output will be list of dictionary but sorted by highest to lowest\n",
    "per_capita_income\n",
    "li = [{'city':'Bangalore', 'per_capita_income':70730},\n",
    "{'city':'Mumbai', 'per_capita_income':72730},\n",
    "{'city':'Chennai', 'per_capita_income':69730},\n",
    "{'city':'Hyderabad', 'per_capita_income':71444}]'''\n",
    "\n",
    "\n",
    "\n",
    "li = [\n",
    "    {'city': 'Bangalore', 'per_capita_income': 70730},\n",
    "    {'city': 'Mumbai', 'per_capita_income': 72730},\n",
    "    {'city': 'Chennai', 'per_capita_income': 69730},\n",
    "    {'city': 'Hyderabad', 'per_capita_income': 71444}\n",
    "]\n",
    "\n",
    "sorted_li_hughest_lowest = sorted(li, key=lambda x: x['per_capita_income'], reverse=True)\n",
    "(sorted_li_hughest_lowest)\n"
   ]
  },
  {
   "cell_type": "code",
   "execution_count": 578,
   "id": "07b1e850-05ff-4884-99a8-7b367bf082e8",
   "metadata": {},
   "outputs": [
    {
     "name": "stdout",
     "output_type": "stream",
     "text": [
      "421\n",
      "124\n"
     ]
    }
   ],
   "source": [
    "'''# Question 6>\n",
    "# write a function called reverse_integer_number(number):\n",
    "# where input is a number example 124\n",
    "# the output returned by the function should be 421\n",
    "# Please note that both input and output numbers should be of type int\n",
    "def reverse_integer_number(number):\n",
    "# write your code here\n",
    "pass\n",
    "'''\n",
    "\n",
    "\n",
    "\n",
    "def reverse_integer_number(number):\n",
    "    number=str(number)\n",
    "    reverse_number=number[::-1]\n",
    "    return int(reverse_number)\n",
    "    print(type(reverse_number))\n",
    "print(reverse_integer_number(124))\n",
    "\n",
    "#or\n",
    "\n",
    "def reverse_integer_number1(number):\n",
    "    reversed_number = 0\n",
    "    \n",
    "    while number != 0:\n",
    "        digit = number % 10  # Get the last digit\n",
    "        reversed_number = reversed_number * 10 + digit  \n",
    "        number = number // 10\n",
    "    \n",
    "    return reversed_number\n",
    "\n",
    "\n",
    "print(reverse_integer_number1(421))  \n"
   ]
  },
  {
   "cell_type": "code",
   "execution_count": 580,
   "id": "faaff8e0-1533-4c71-9f47-ca433fd0eb11",
   "metadata": {},
   "outputs": [
    {
     "data": {
      "text/plain": [
       "[1, 2, 3, 4, 5, 6, 7, 8, 10]"
      ]
     },
     "execution_count": 580,
     "metadata": {},
     "output_type": "execute_result"
    }
   ],
   "source": [
    "'''# Question 7>\n",
    "# Input is two lists\n",
    "# The final is a list of unique elements sorted in ascending order\n",
    "# example\n",
    "# Input is two list\n",
    "list_1 = [1, 4, 7, 3, 1, 3, 5, 2, 1, 4, 10]\n",
    "list_2 = [5, 7, 8, 1, 3, 5, 6, 1, 4, 5]\n",
    "# The output should be [1, 2, 3, 4, 5, 6, 7, 8, 10]'''\n",
    "\n",
    "list_1 = [1, 4, 7, 3, 1, 3, 5, 2, 1, 4, 10]\n",
    "list_2 = [5, 7, 8, 1, 3, 5, 6, 1, 4, 5]\n",
    "new_lst=[]\n",
    "for i in sorted(list_1+list_2):\n",
    "    if i not in new_lst:\n",
    "        new_lst.append(i)\n",
    "\n",
    "new_lst"
   ]
  },
  {
   "cell_type": "code",
   "execution_count": 582,
   "id": "05569ba8-4ede-4eea-83ee-5d859fe46d28",
   "metadata": {},
   "outputs": [
    {
     "name": "stdout",
     "output_type": "stream",
     "text": [
      "          country  beer_servings  spirit_servings  wine_servings  \\\n",
      "4          Angola            217               57             45   \n",
      "62          Gabon            347               98             59   \n",
      "117       Namibia            376                3              1   \n",
      "159  South Africa            225               76             81   \n",
      "\n",
      "     total_litres_of_pure_alcohol continent  \n",
      "4                             5.9    Africa  \n",
      "62                            8.9    Africa  \n",
      "117                           6.8    Africa  \n",
      "159                           8.2    Africa  \n",
      "***********************************************************************************\n",
      "          country  beer_servings continent\n",
      "4          Angola            217    Africa\n",
      "62          Gabon            347    Africa\n",
      "117       Namibia            376    Africa\n",
      "159  South Africa            225    Africa\n"
     ]
    }
   ],
   "source": [
    "'''# Question 8 >\n",
    "# use the drinksbycountry dataset to solve the following question\n",
    "import pandas as pd\n",
    "drinks = pd.read_csv('http://bit.ly/drinksbycountry')\n",
    "# find all the countries in africa who drink more beer than average\n",
    "beer consupution in europe?'''\n",
    "\n",
    "import pandas as pd\n",
    "\n",
    "drinks = pd.read_csv('http://bit.ly/drinksbycountry')\n",
    "\n",
    "european_avg_beer_consumption = drinks[drinks['continent'] == 'Europe']['beer_servings'].mean()\n",
    "\n",
    "\n",
    "african_countries_morethan_average_beer_consumption=drinks[(drinks['continent'] == 'Africa') & (drinks['beer_servings'] > european_avg_beer_consumption)]\n",
    "\n",
    "print(african_countries_morethan_average_beer_consumption)\n",
    "\n",
    "print('***********************************************************************************')\n",
    "\n",
    "print(african_countries_morethan_averagre_beer_consumption[['country', 'beer_servings','continent']])\n",
    "\n",
    "\n",
    "\n",
    "\n"
   ]
  },
  {
   "cell_type": "code",
   "execution_count": 584,
   "id": "71041e78-47e9-4618-aa62-b91aea8a8e7b",
   "metadata": {},
   "outputs": [
    {
     "name": "stdout",
     "output_type": "stream",
     "text": [
      "country                         Russian Federation\n",
      "beer_servings                                  247\n",
      "spirit_servings                                326\n",
      "wine_servings                                   73\n",
      "total_litres_of_pure_alcohol                  11.5\n",
      "continent                                     Asia\n",
      "Name: 141, dtype: object\n"
     ]
    }
   ],
   "source": [
    "'''# Question 9 >\n",
    "# Use the drinksbycountry dataset to solve the following question\n",
    "import pandas as pd\n",
    "drinks = pd.read_csv('http://bit.ly/drinksbycountry')\n",
    "# find all second most wine drinking country in Asia ?'''\n",
    "\n",
    "drinks = pd.read_csv('http://bit.ly/drinksbycountry')\n",
    "\n",
    "asia_wine_countries = drinks[drinks['continent'] == 'Asia']\n",
    "\n",
    "sorted_asia_wine_countries = asia_wine.sort_values(by='wine_servings', ascending=False)\n",
    "\n",
    "asia_second_most_wine_consume_country = sorted_asia_wine.iloc[1][:]\n",
    "\n",
    "print(asia_second_most_wine_consume_country)\n"
   ]
  },
  {
   "cell_type": "code",
   "execution_count": 586,
   "id": "78c17587-ca67-48ba-aaa7-c17337925f17",
   "metadata": {},
   "outputs": [
    {
     "data": {
      "text/html": [
       "<div>\n",
       "<style scoped>\n",
       "    .dataframe tbody tr th:only-of-type {\n",
       "        vertical-align: middle;\n",
       "    }\n",
       "\n",
       "    .dataframe tbody tr th {\n",
       "        vertical-align: top;\n",
       "    }\n",
       "\n",
       "    .dataframe thead th {\n",
       "        text-align: right;\n",
       "    }\n",
       "</style>\n",
       "<table border=\"1\" class=\"dataframe\">\n",
       "  <thead>\n",
       "    <tr style=\"text-align: right;\">\n",
       "      <th></th>\n",
       "      <th>star_rating</th>\n",
       "      <th>title</th>\n",
       "      <th>content_rating</th>\n",
       "      <th>genre</th>\n",
       "      <th>duration</th>\n",
       "      <th>actors_list</th>\n",
       "    </tr>\n",
       "  </thead>\n",
       "  <tbody>\n",
       "    <tr>\n",
       "      <th>51</th>\n",
       "      <td>8.5</td>\n",
       "      <td>Apocalypse Now</td>\n",
       "      <td>R</td>\n",
       "      <td>Drama</td>\n",
       "      <td>153</td>\n",
       "      <td>[u'Martin Sheen', u'Marlon Brando', u'Robert D...</td>\n",
       "    </tr>\n",
       "    <tr>\n",
       "      <th>122</th>\n",
       "      <td>8.3</td>\n",
       "      <td>On the Waterfront</td>\n",
       "      <td>NOT RATED</td>\n",
       "      <td>Crime</td>\n",
       "      <td>108</td>\n",
       "      <td>[u'Marlon Brando', u'Karl Malden', u'Lee J. Co...</td>\n",
       "    </tr>\n",
       "    <tr>\n",
       "      <th>284</th>\n",
       "      <td>8.1</td>\n",
       "      <td>A Streetcar Named Desire</td>\n",
       "      <td>PG</td>\n",
       "      <td>Drama</td>\n",
       "      <td>122</td>\n",
       "      <td>[u'Vivien Leigh', u'Marlon Brando', u'Kim Hunt...</td>\n",
       "    </tr>\n",
       "  </tbody>\n",
       "</table>\n",
       "</div>"
      ],
      "text/plain": [
       "     star_rating                     title content_rating  genre  duration  \\\n",
       "51           8.5            Apocalypse Now              R  Drama       153   \n",
       "122          8.3         On the Waterfront      NOT RATED  Crime       108   \n",
       "284          8.1  A Streetcar Named Desire             PG  Drama       122   \n",
       "\n",
       "                                           actors_list  \n",
       "51   [u'Martin Sheen', u'Marlon Brando', u'Robert D...  \n",
       "122  [u'Marlon Brando', u'Karl Malden', u'Lee J. Co...  \n",
       "284  [u'Vivien Leigh', u'Marlon Brando', u'Kim Hunt...  "
      ]
     },
     "execution_count": 586,
     "metadata": {},
     "output_type": "execute_result"
    }
   ],
   "source": [
    "'''# Question 10 >\n",
    "# Use the imdbrating dataset to solve the following questions\n",
    "import pandas as pd\n",
    "imdb = pd.read_csv('http://bit.ly/imdbratings')\n",
    "# find all the movies that have a star_rating >=8.0 and less than\n",
    "equal <=9.0 and have 'Marlon Brando' as a actor'''\n",
    "\n",
    "imdb = pd.read_csv('http://bit.ly/imdbratings')\n",
    "\n",
    "star_rating_movies = imdb[(imdb['star_rating'] >= 8.0) & (imdb['star_rating'] <= 9.0) & (imdb['actors_list'].str.contains('Marlon Brando'))]\n",
    "\n",
    "star_rating_movies\n"
   ]
  },
  {
   "cell_type": "code",
   "execution_count": 588,
   "id": "9600f599-fbf9-4abc-ba9f-0664ced53611",
   "metadata": {},
   "outputs": [
    {
     "name": "stdout",
     "output_type": "stream",
     "text": [
      "Sum of total_bill for all the items which has chicken is $17742.15\n"
     ]
    }
   ],
   "source": [
    "'''\n",
    "# Question 11 >\n",
    "# Use the chiporders dataset to solve the following questions\n",
    "import pandas as pd\n",
    "chips = pd.read_table('http://bit.ly/chiporders')\n",
    "# Question 11 a > Create a column which will have the total bill\n",
    "formed by multiplying quantity * item_price\n",
    "# Question 11 b > find the sum of all the total_bill for all items\n",
    "that contains chicken'''\n",
    "\n",
    "chips = pd.read_table('http://bit.ly/chiporders')\n",
    "\n",
    "chips['items_price'] = chips.item_price.str.replace('$','').astype(float)\n",
    "\n",
    "#11a)\n",
    "\n",
    "chips['total_bill']=chips['quantity'] * chips['items_price']\n",
    "\n",
    "#11b)\n",
    "chips_with_item_chicken=chips[chips['item_name'].str.lower().str.contains('chicken')]\n",
    "\n",
    "sum_total_bill = chips_with_item_chicken['total_bill'].sum()\n",
    "\n",
    "print(f'Sum of total_bill for all the items which has chicken is ${sum_total_bill}')\n"
   ]
  },
  {
   "cell_type": "code",
   "execution_count": 590,
   "id": "4e742506-95a6-49c9-9827-55da21d7f59f",
   "metadata": {},
   "outputs": [
    {
     "data": {
      "text/html": [
       "<div>\n",
       "<style scoped>\n",
       "    .dataframe tbody tr th:only-of-type {\n",
       "        vertical-align: middle;\n",
       "    }\n",
       "\n",
       "    .dataframe tbody tr th {\n",
       "        vertical-align: top;\n",
       "    }\n",
       "\n",
       "    .dataframe thead th {\n",
       "        text-align: right;\n",
       "    }\n",
       "</style>\n",
       "<table border=\"1\" class=\"dataframe\">\n",
       "  <thead>\n",
       "    <tr style=\"text-align: right;\">\n",
       "      <th></th>\n",
       "      <th>PassengerId</th>\n",
       "      <th>Survived</th>\n",
       "      <th>Pclass</th>\n",
       "      <th>Name</th>\n",
       "      <th>Sex</th>\n",
       "      <th>Age</th>\n",
       "      <th>SibSp</th>\n",
       "      <th>Parch</th>\n",
       "      <th>Ticket</th>\n",
       "      <th>Fare</th>\n",
       "      <th>Cabin</th>\n",
       "      <th>Embarked</th>\n",
       "      <th>First_Name</th>\n",
       "    </tr>\n",
       "  </thead>\n",
       "  <tbody>\n",
       "    <tr>\n",
       "      <th>0</th>\n",
       "      <td>1</td>\n",
       "      <td>0</td>\n",
       "      <td>3</td>\n",
       "      <td>Braund, Mr. Owen Harris</td>\n",
       "      <td>male</td>\n",
       "      <td>22.0</td>\n",
       "      <td>1</td>\n",
       "      <td>0</td>\n",
       "      <td>A/5 21171</td>\n",
       "      <td>7.2500</td>\n",
       "      <td>NaN</td>\n",
       "      <td>S</td>\n",
       "      <td>Owen</td>\n",
       "    </tr>\n",
       "    <tr>\n",
       "      <th>1</th>\n",
       "      <td>2</td>\n",
       "      <td>1</td>\n",
       "      <td>1</td>\n",
       "      <td>Cumings, Mrs. John Bradley (Florence Briggs Th...</td>\n",
       "      <td>female</td>\n",
       "      <td>38.0</td>\n",
       "      <td>1</td>\n",
       "      <td>0</td>\n",
       "      <td>PC 17599</td>\n",
       "      <td>71.2833</td>\n",
       "      <td>C85</td>\n",
       "      <td>C</td>\n",
       "      <td>John</td>\n",
       "    </tr>\n",
       "    <tr>\n",
       "      <th>2</th>\n",
       "      <td>3</td>\n",
       "      <td>1</td>\n",
       "      <td>3</td>\n",
       "      <td>Heikkinen, Miss. Laina</td>\n",
       "      <td>female</td>\n",
       "      <td>26.0</td>\n",
       "      <td>0</td>\n",
       "      <td>0</td>\n",
       "      <td>STON/O2. 3101282</td>\n",
       "      <td>7.9250</td>\n",
       "      <td>NaN</td>\n",
       "      <td>S</td>\n",
       "      <td>Laina</td>\n",
       "    </tr>\n",
       "    <tr>\n",
       "      <th>3</th>\n",
       "      <td>4</td>\n",
       "      <td>1</td>\n",
       "      <td>1</td>\n",
       "      <td>Futrelle, Mrs. Jacques Heath (Lily May Peel)</td>\n",
       "      <td>female</td>\n",
       "      <td>35.0</td>\n",
       "      <td>1</td>\n",
       "      <td>0</td>\n",
       "      <td>113803</td>\n",
       "      <td>53.1000</td>\n",
       "      <td>C123</td>\n",
       "      <td>S</td>\n",
       "      <td>Jacques</td>\n",
       "    </tr>\n",
       "    <tr>\n",
       "      <th>4</th>\n",
       "      <td>5</td>\n",
       "      <td>0</td>\n",
       "      <td>3</td>\n",
       "      <td>Allen, Mr. William Henry</td>\n",
       "      <td>male</td>\n",
       "      <td>35.0</td>\n",
       "      <td>0</td>\n",
       "      <td>0</td>\n",
       "      <td>373450</td>\n",
       "      <td>8.0500</td>\n",
       "      <td>NaN</td>\n",
       "      <td>S</td>\n",
       "      <td>William</td>\n",
       "    </tr>\n",
       "  </tbody>\n",
       "</table>\n",
       "</div>"
      ],
      "text/plain": [
       "   PassengerId  Survived  Pclass  \\\n",
       "0            1         0       3   \n",
       "1            2         1       1   \n",
       "2            3         1       3   \n",
       "3            4         1       1   \n",
       "4            5         0       3   \n",
       "\n",
       "                                                Name     Sex   Age  SibSp  \\\n",
       "0                            Braund, Mr. Owen Harris    male  22.0      1   \n",
       "1  Cumings, Mrs. John Bradley (Florence Briggs Th...  female  38.0      1   \n",
       "2                             Heikkinen, Miss. Laina  female  26.0      0   \n",
       "3       Futrelle, Mrs. Jacques Heath (Lily May Peel)  female  35.0      1   \n",
       "4                           Allen, Mr. William Henry    male  35.0      0   \n",
       "\n",
       "   Parch            Ticket     Fare Cabin Embarked First_Name  \n",
       "0      0         A/5 21171   7.2500   NaN        S       Owen  \n",
       "1      0          PC 17599  71.2833   C85        C       John  \n",
       "2      0  STON/O2. 3101282   7.9250   NaN        S      Laina  \n",
       "3      0            113803  53.1000  C123        S    Jacques  \n",
       "4      0            373450   8.0500   NaN        S    William  "
      ]
     },
     "execution_count": 590,
     "metadata": {},
     "output_type": "execute_result"
    }
   ],
   "source": [
    "# Question 12 >\n",
    "# Use the kaggletrain dataset to solve the following question\n",
    "\n",
    "import pandas\n",
    "\n",
    "train = pd.read_csv('http://bit.ly/kaggletrain')\n",
    "\n",
    "\n",
    "# 12 a > Create a column that has the first name of the passenger\n",
    "# use the apply function\n",
    "\n",
    "train['First_Name'] = train['Name'].apply(lambda x: x.split(', ')[1].split(' ')[1])\n",
    "train.head()\n",
    "\n"
   ]
  },
  {
   "cell_type": "code",
   "execution_count": 592,
   "id": "8e349559-6783-4941-aa6f-1bc49fcdf5a4",
   "metadata": {},
   "outputs": [
    {
     "data": {
      "text/html": [
       "<div>\n",
       "<style scoped>\n",
       "    .dataframe tbody tr th:only-of-type {\n",
       "        vertical-align: middle;\n",
       "    }\n",
       "\n",
       "    .dataframe tbody tr th {\n",
       "        vertical-align: top;\n",
       "    }\n",
       "\n",
       "    .dataframe thead th {\n",
       "        text-align: right;\n",
       "    }\n",
       "</style>\n",
       "<table border=\"1\" class=\"dataframe\">\n",
       "  <thead>\n",
       "    <tr style=\"text-align: right;\">\n",
       "      <th></th>\n",
       "      <th>PassengerId</th>\n",
       "      <th>Survived</th>\n",
       "      <th>Pclass</th>\n",
       "      <th>Name</th>\n",
       "      <th>Sex</th>\n",
       "      <th>Age</th>\n",
       "      <th>SibSp</th>\n",
       "      <th>Parch</th>\n",
       "      <th>Ticket</th>\n",
       "      <th>Fare</th>\n",
       "      <th>Cabin</th>\n",
       "      <th>Embarked</th>\n",
       "      <th>First_Name</th>\n",
       "      <th>Survived_Text</th>\n",
       "    </tr>\n",
       "  </thead>\n",
       "  <tbody>\n",
       "    <tr>\n",
       "      <th>0</th>\n",
       "      <td>1</td>\n",
       "      <td>0</td>\n",
       "      <td>3</td>\n",
       "      <td>Braund, Mr. Owen Harris</td>\n",
       "      <td>male</td>\n",
       "      <td>22.0</td>\n",
       "      <td>1</td>\n",
       "      <td>0</td>\n",
       "      <td>A/5 21171</td>\n",
       "      <td>7.2500</td>\n",
       "      <td>NaN</td>\n",
       "      <td>S</td>\n",
       "      <td>Owen</td>\n",
       "      <td>Did not survive</td>\n",
       "    </tr>\n",
       "    <tr>\n",
       "      <th>1</th>\n",
       "      <td>2</td>\n",
       "      <td>1</td>\n",
       "      <td>1</td>\n",
       "      <td>Cumings, Mrs. John Bradley (Florence Briggs Th...</td>\n",
       "      <td>female</td>\n",
       "      <td>38.0</td>\n",
       "      <td>1</td>\n",
       "      <td>0</td>\n",
       "      <td>PC 17599</td>\n",
       "      <td>71.2833</td>\n",
       "      <td>C85</td>\n",
       "      <td>C</td>\n",
       "      <td>John</td>\n",
       "      <td>Survived</td>\n",
       "    </tr>\n",
       "    <tr>\n",
       "      <th>2</th>\n",
       "      <td>3</td>\n",
       "      <td>1</td>\n",
       "      <td>3</td>\n",
       "      <td>Heikkinen, Miss. Laina</td>\n",
       "      <td>female</td>\n",
       "      <td>26.0</td>\n",
       "      <td>0</td>\n",
       "      <td>0</td>\n",
       "      <td>STON/O2. 3101282</td>\n",
       "      <td>7.9250</td>\n",
       "      <td>NaN</td>\n",
       "      <td>S</td>\n",
       "      <td>Laina</td>\n",
       "      <td>Survived</td>\n",
       "    </tr>\n",
       "    <tr>\n",
       "      <th>3</th>\n",
       "      <td>4</td>\n",
       "      <td>1</td>\n",
       "      <td>1</td>\n",
       "      <td>Futrelle, Mrs. Jacques Heath (Lily May Peel)</td>\n",
       "      <td>female</td>\n",
       "      <td>35.0</td>\n",
       "      <td>1</td>\n",
       "      <td>0</td>\n",
       "      <td>113803</td>\n",
       "      <td>53.1000</td>\n",
       "      <td>C123</td>\n",
       "      <td>S</td>\n",
       "      <td>Jacques</td>\n",
       "      <td>Survived</td>\n",
       "    </tr>\n",
       "    <tr>\n",
       "      <th>4</th>\n",
       "      <td>5</td>\n",
       "      <td>0</td>\n",
       "      <td>3</td>\n",
       "      <td>Allen, Mr. William Henry</td>\n",
       "      <td>male</td>\n",
       "      <td>35.0</td>\n",
       "      <td>0</td>\n",
       "      <td>0</td>\n",
       "      <td>373450</td>\n",
       "      <td>8.0500</td>\n",
       "      <td>NaN</td>\n",
       "      <td>S</td>\n",
       "      <td>William</td>\n",
       "      <td>Did not survive</td>\n",
       "    </tr>\n",
       "  </tbody>\n",
       "</table>\n",
       "</div>"
      ],
      "text/plain": [
       "   PassengerId  Survived  Pclass  \\\n",
       "0            1         0       3   \n",
       "1            2         1       1   \n",
       "2            3         1       3   \n",
       "3            4         1       1   \n",
       "4            5         0       3   \n",
       "\n",
       "                                                Name     Sex   Age  SibSp  \\\n",
       "0                            Braund, Mr. Owen Harris    male  22.0      1   \n",
       "1  Cumings, Mrs. John Bradley (Florence Briggs Th...  female  38.0      1   \n",
       "2                             Heikkinen, Miss. Laina  female  26.0      0   \n",
       "3       Futrelle, Mrs. Jacques Heath (Lily May Peel)  female  35.0      1   \n",
       "4                           Allen, Mr. William Henry    male  35.0      0   \n",
       "\n",
       "   Parch            Ticket     Fare Cabin Embarked First_Name    Survived_Text  \n",
       "0      0         A/5 21171   7.2500   NaN        S       Owen  Did not survive  \n",
       "1      0          PC 17599  71.2833   C85        C       John         Survived  \n",
       "2      0  STON/O2. 3101282   7.9250   NaN        S      Laina         Survived  \n",
       "3      0            113803  53.1000  C123        S    Jacques         Survived  \n",
       "4      0            373450   8.0500   NaN        S    William  Did not survive  "
      ]
     },
     "execution_count": 592,
     "metadata": {},
     "output_type": "execute_result"
    }
   ],
   "source": [
    "\n",
    "# 12 b >\n",
    "# Create a column named \"Survived_Text\" where if the value in\n",
    "#Survived column is 0 then \"Survived_text\" value is \"Did not survive\"\n",
    "# if the value in Survived column is 1 then \"Survived_text\" value is \"Survived\"\n",
    "\n",
    "train['Survived_Text'] = train['Survived'].apply(lambda x: \"Did not survive\" if x == 0 else \"Survived\")\n",
    "train.head()"
   ]
  },
  {
   "cell_type": "code",
   "execution_count": 594,
   "id": "2e9191a3-e5da-4771-b6d8-c512153e382a",
   "metadata": {},
   "outputs": [
    {
     "data": {
      "text/html": [
       "<div>\n",
       "<style scoped>\n",
       "    .dataframe tbody tr th:only-of-type {\n",
       "        vertical-align: middle;\n",
       "    }\n",
       "\n",
       "    .dataframe tbody tr th {\n",
       "        vertical-align: top;\n",
       "    }\n",
       "\n",
       "    .dataframe thead th {\n",
       "        text-align: right;\n",
       "    }\n",
       "</style>\n",
       "<table border=\"1\" class=\"dataframe\">\n",
       "  <thead>\n",
       "    <tr style=\"text-align: right;\">\n",
       "      <th></th>\n",
       "      <th>First_Name</th>\n",
       "      <th>Sex</th>\n",
       "      <th>Age</th>\n",
       "      <th>Fare</th>\n",
       "    </tr>\n",
       "  </thead>\n",
       "  <tbody>\n",
       "    <tr>\n",
       "      <th>6</th>\n",
       "      <td>Timothy</td>\n",
       "      <td>male</td>\n",
       "      <td>54.0</td>\n",
       "      <td>51.8625</td>\n",
       "    </tr>\n",
       "    <tr>\n",
       "      <th>27</th>\n",
       "      <td>Charles</td>\n",
       "      <td>male</td>\n",
       "      <td>19.0</td>\n",
       "      <td>263.0000</td>\n",
       "    </tr>\n",
       "    <tr>\n",
       "      <th>30</th>\n",
       "      <td>Manuel</td>\n",
       "      <td>male</td>\n",
       "      <td>40.0</td>\n",
       "      <td>27.7208</td>\n",
       "    </tr>\n",
       "    <tr>\n",
       "      <th>34</th>\n",
       "      <td>Edgar</td>\n",
       "      <td>male</td>\n",
       "      <td>28.0</td>\n",
       "      <td>82.1708</td>\n",
       "    </tr>\n",
       "    <tr>\n",
       "      <th>35</th>\n",
       "      <td>Alexander</td>\n",
       "      <td>male</td>\n",
       "      <td>42.0</td>\n",
       "      <td>52.0000</td>\n",
       "    </tr>\n",
       "  </tbody>\n",
       "</table>\n",
       "</div>"
      ],
      "text/plain": [
       "   First_Name   Sex   Age      Fare\n",
       "6     Timothy  male  54.0   51.8625\n",
       "27    Charles  male  19.0  263.0000\n",
       "30     Manuel  male  40.0   27.7208\n",
       "34      Edgar  male  28.0   82.1708\n",
       "35  Alexander  male  42.0   52.0000"
      ]
     },
     "execution_count": 594,
     "metadata": {},
     "output_type": "execute_result"
    }
   ],
   "source": [
    "# 12 c >\n",
    "# select the columns First_Name, Sex, Age, Fare for those passengers\n",
    "# who travelled in first class and who did not survive\n",
    "\n",
    "\n",
    "specific_columns = train[(train['Pclass'] == 1) & (train['Survived'] == 0)][['First_Name', 'Sex', 'Age', 'Fare']]\n",
    "specific_columns.head()"
   ]
  },
  {
   "cell_type": "code",
   "execution_count": 596,
   "id": "5dbfa7f4-1557-4a31-a954-65e4ce0d80d7",
   "metadata": {},
   "outputs": [
    {
     "data": {
      "text/plain": [
       "Sex\n",
       "female     3\n",
       "male      77\n",
       "Name: First_Name, dtype: int64"
      ]
     },
     "execution_count": 596,
     "metadata": {},
     "output_type": "execute_result"
    }
   ],
   "source": [
    "# 12 d > group the above dataset by sex and get the count of male and female passengers who did not survive\n",
    "\n",
    "survival_count = specific_columns.groupby('Sex')['First_Name'].count() \n",
    "survival_count.head()"
   ]
  },
  {
   "cell_type": "code",
   "execution_count": null,
   "id": "ae042cbf-7733-4908-9eb7-d1ff72301a20",
   "metadata": {},
   "outputs": [],
   "source": []
  },
  {
   "cell_type": "code",
   "execution_count": 598,
   "id": "8e1e749e-6ce5-4e39-bdd4-e1c8fc8472dd",
   "metadata": {},
   "outputs": [
    {
     "data": {
      "text/plain": [
       "{'banana': 3, 'mango': 3, 'grapes': 1, 'watermelon': 1, 'papaya': 2}"
      ]
     },
     "execution_count": 598,
     "metadata": {},
     "output_type": "execute_result"
    }
   ],
   "source": [
    "'''Question 13 >>\n",
    "# Write a function that takes a string as an input and returns a\n",
    "dictionary where the\n",
    "# key of the dictionary is the word and the value is the count of the\n",
    "word\n",
    "sentence = \"banana mango Banana mango grapes watermelon Papaya mango\n",
    "papaya Banana\"'''\n",
    "\n",
    "sentence = \"banana mango Banana mango grapes watermelon Papaya mango papaya Banana\"\n",
    "\n",
    "\n",
    "def Sentence_dict(string):\n",
    "    string=string.split(' ')\n",
    "    new_sentence_dict={}\n",
    "    for i in string:\n",
    "        if i.strip().lower() not in new_sentence_dict.keys():\n",
    "           new_sentence_dict[i.strip().lower()]=1\n",
    "        else:\n",
    "           new_sentence_dict[i.strip().lower()]=new_sentence_dict[i.strip().lower()]+1\n",
    "\n",
    "    return new_sentence_dict\n",
    "\n",
    "Sentence_dict(sentence)\n"
   ]
  },
  {
   "cell_type": "code",
   "execution_count": 324,
   "id": "5f216542-e044-470a-b9e6-7b86602f8687",
   "metadata": {},
   "outputs": [
    {
     "name": "stdout",
     "output_type": "stream",
     "text": [
      "32\n",
      "823543\n"
     ]
    }
   ],
   "source": [
    "# Question 14 >>\n",
    "# Implement the function pow(x, n)\n",
    "# where x is raised to the power n\n",
    "# example pow(2, 5) -- should return 32\n",
    "\n",
    "def pow(x,n):\n",
    "    return x**n\n",
    "\n",
    "\n",
    "print(pow(2,5))\n",
    "print(pow(7,7))\n"
   ]
  },
  {
   "cell_type": "code",
   "execution_count": 600,
   "id": "4107cadf-ae0c-4472-9c26-c706b5cf03de",
   "metadata": {},
   "outputs": [
    {
     "data": {
      "text/plain": [
       "'49'"
      ]
     },
     "execution_count": 600,
     "metadata": {},
     "output_type": "execute_result"
    }
   ],
   "source": [
    "# Question 15 >>\n",
    "# Given two non-negative integers num1 and num2 represented as strings,\n",
    "# return the product of num1 and num2, also represented as a string.\n",
    "# Note: You must not use any built-in BigInteger library or convert the inputs to integer directly.\n",
    "# Create your own function to achive this.\n",
    "# Example num1 = \"6\" num2 = \"5\"\n",
    "# Output \"30\"\n",
    "# Example num1 = \"123\" num2 = \"456\"\n",
    "# Output = \"56088\"\n",
    "\n",
    "\n",
    "\n",
    "product=[]\n",
    "num1='7'\n",
    "num2='7'\n",
    "for i in num1:\n",
    "    for j in num2:\n",
    "        product.append(str(int(i)*int(j)))\n",
    "\n",
    "product=','.join(product).replace(',','')\n",
    "        \n",
    "product\n",
    "\n",
    "        \n",
    "    "
   ]
  },
  {
   "cell_type": "code",
   "execution_count": null,
   "id": "11cd6c66-683b-4fe2-99a8-dd4d33d9e8bc",
   "metadata": {},
   "outputs": [],
   "source": []
  }
 ],
 "metadata": {
  "kernelspec": {
   "display_name": "Python 3 (ipykernel)",
   "language": "python",
   "name": "python3"
  },
  "language_info": {
   "codemirror_mode": {
    "name": "ipython",
    "version": 3
   },
   "file_extension": ".py",
   "mimetype": "text/x-python",
   "name": "python",
   "nbconvert_exporter": "python",
   "pygments_lexer": "ipython3",
   "version": "3.12.4"
  }
 },
 "nbformat": 4,
 "nbformat_minor": 5
}
